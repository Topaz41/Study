{
 "cells": [
  {
   "cell_type": "code",
   "execution_count": 14,
   "metadata": {},
   "outputs": [],
   "source": [
    "import numpy as np\n",
    "import matplotlib.pyplot as plt\n",
    "import math\n",
    "N = 5\n",
    "def Cf_k(n, k):\n",
    "    return math.factorial(n)/(math.factorial(k)*(math.factorial(n-k)))\n",
    "    "
   ]
  },
  {
   "cell_type": "code",
   "execution_count": 6,
   "metadata": {},
   "outputs": [
    {
     "name": "stdout",
     "output_type": "stream",
     "text": [
      "[1.0, 5.0, 15.0, 35.0, 70.0]\n"
     ]
    }
   ],
   "source": [
    "Q_ymas =[]\n",
    "for k in range(N):\n",
    "    Q_ymas.append(Cf_k(N-1+k,k))\n",
    "print(Q_ymas)    "
   ]
  },
  {
   "cell_type": "code",
   "execution_count": null,
   "metadata": {},
   "outputs": [],
   "source": [
    "#-y^5 + 5 y^4 - 10 y^3 + 10 y^2 - 5 y + 1\n",
    "#1.0 + 5.0y+ 15.0y^2+ 35.0y^3+ 70.0y^4\n",
    "#-70 y^9 + 315 y^8 - 540 y^7 + 420 y^6 - 126 y^5 + 1"
   ]
  },
  {
   "cell_type": "code",
   "execution_count": 173,
   "metadata": {},
   "outputs": [],
   "source": [
    "#(1.0 + 5.0(1-cosx)/2)+ 15.0((1-cosx)/2)^2+ 35.0((1-cosx)/2)^3+ 70.0((1-cosx)/2)^4)\n",
    "#-(1/2+cosx)^5 + 5 1/2+cosx^4 - 10 1/2+cosx^3 + 10 1/2+cosx^2 - 5 1/2+cosx + 1\n",
    "def column(matrix, i):\n",
    "    return (row[i] for row in matrix)\n",
    "def Haar(x):\n",
    "    #print(x)\n",
    "    if (x<0):\n",
    "        return 0;\n",
    "    if (x>=1):\n",
    "        return 0\n",
    "    return 1"
   ]
  },
  {
   "cell_type": "code",
   "execution_count": 293,
   "metadata": {},
   "outputs": [
    {
     "data": {
      "text/plain": [
       "[<matplotlib.lines.Line2D at 0xc431eebcf8>]"
      ]
     },
     "execution_count": 293,
     "metadata": {},
     "output_type": "execute_result"
    },
    {
     "data": {
      "image/png": "[encoded data removed]",
      "text/plain": [
       "<Figure size 432x288 with 1 Axes>"
      ]
     },
     "metadata": {
      "needs_background": "light"
     },
     "output_type": "display_data"
    }
   ],
   "source": [
    "h = [(1+pow(3,1/2))/(4*pow(2,1/2)),(3+pow(3,1/2))/(4*pow(2,1/2)),(3-pow(3,1/2))/(4*pow(2,1/2)),(1-pow(3,1/2))/(4*pow(2,1/2))]\n",
    "#h = [0.3326705529500825,0.8068915093110924,0.4598775021184914,-0.1350110110200102546,-0.0854412738820267,0.0352262918867095]\n",
    "#h = [0.0380779473638778, 0.2438346746125858, 0.6048231236900955, 0.6572880780512736, 0.1331973858249883, -0.2932737832791663, -0.0968407832229492, 0.1485407493381256, 0.0307256814793385, -0.0676328290613279, 0.0002509471148340, 0.0223616621236798, -0.0047232047577518, -0.0042815036824635, 0.0018476468830563, 0.0002303857635939, 0.0002519631889427, 0.0000393473203163]\n",
    "n = int(len(h))\n",
    "pointCount = 61\n",
    "iter = 24\n",
    "x = np.zeros(pointCount)\n",
    "\n",
    "xxx = np.zeros(pointCount)\n",
    "for i in range(len(xxx)):\n",
    "    xxx[i] =  1/((pointCount-1)/6)*(i-(pointCount-1)/2)\n",
    "x= xxx\n",
    "\n",
    "#for i in range(pointCount):\n",
    "#    x[i] = 1/((pointCount-1)/3)*i\n",
    "y = np.zeros([pointCount, iter])\n",
    "def point(x, i):\n",
    "    for j in range(len(x)):\n",
    "        if(abs(x[j]-i)<0.0005):\n",
    "            return j\n",
    "    print(\"kek\")\n",
    "    return(0)\n",
    "    \n",
    "\n",
    "for i in range(pointCount):\n",
    "    temp =0\n",
    "    for j in range(n):\n",
    "        temp = temp + h[j]*Haar(2*x[i]-j)\n",
    "    y[i][0]= temp*pow(2,1/2)\n",
    "\n",
    "for k in range(1,iter):\n",
    "    for i in range(pointCount):\n",
    "        temp = 0\n",
    "        for j in range(n):\n",
    "            arg = 2*x[i]-j\n",
    "            if arg >=-3 and arg<=3:\n",
    "                #print(arg)\n",
    "                temp = temp + h[j]*y[point(x,arg)][k-1]\n",
    "        y[i][k]= temp*pow(2,1/2)\n",
    "fi = y[:,iter-1]\n",
    "\n",
    "plt.plot(x,fi)\n"
   ]
  },
  {
   "cell_type": "code",
   "execution_count": 294,
   "metadata": {},
   "outputs": [
    {
     "data": {
      "text/plain": [
       "[<matplotlib.lines.Line2D at 0xc431f44518>]"
      ]
     },
     "execution_count": 294,
     "metadata": {},
     "output_type": "execute_result"
    },
    {
     "data": {
      "image/png": "[encoded data removed]",
      "text/plain": [
       "<Figure size 432x288 with 1 Axes>"
      ]
     },
     "metadata": {
      "needs_background": "light"
     },
     "output_type": "display_data"
    }
   ],
   "source": [
    "psi =  np.zeros(pointCount)\n",
    "for i in range(len(x)):\n",
    "    temp = 0\n",
    "    for j in range(-10 , 10):\n",
    "        arg = 2*x[i]-j        \n",
    "        \n",
    "        if -j+1>=0 and -j+1 < n:\n",
    "            q_n = (-1)**j*h[-j+1]\n",
    "            if arg >= -3 and arg<=3:                \n",
    "                temp = temp + q_n*fi[point(x, arg)]\n",
    "            \n",
    "    psi[i]= temp\n",
    "    \n",
    "    \n",
    "plt.plot(x,psi)"
   ]
  },
  {
   "cell_type": "code",
   "execution_count": null,
   "metadata": {},
   "outputs": [],
   "source": []
  },
  {
   "cell_type": "code",
   "execution_count": null,
   "metadata": {},
   "outputs": [],
   "source": [
    "\n"
   ]
  },
  {
   "cell_type": "code",
   "execution_count": null,
   "metadata": {},
   "outputs": [],
   "source": []
  },
  {
   "cell_type": "code",
   "execution_count": null,
   "metadata": {},
   "outputs": [],
   "source": []
  }
 ],
 "metadata": {
  "kernelspec": {
   "display_name": "Python 3",
   "language": "python",
   "name": "python3"
  },
  "language_info": {
   "codemirror_mode": {
    "name": "ipython",
    "version": 3
   },
   "file_extension": ".py",
   "mimetype": "text/x-python",
   "name": "python",
   "nbconvert_exporter": "python",
   "pygments_lexer": "ipython3",
   "version": "3.7.1"
  }
 },
 "nbformat": 4,
 "nbformat_minor": 2
}
