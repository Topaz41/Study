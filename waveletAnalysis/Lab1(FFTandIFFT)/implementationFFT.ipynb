{
 "cells": [
  {
   "cell_type": "code",
   "execution_count": 1,
   "metadata": {},
   "outputs": [],
   "source": [
    "import numpy as np\n",
    "import math as math\n",
    "import random\n",
    "import time\n",
    "from scipy import linalg, sparse\n",
    "import warnings\n",
    "warnings.filterwarnings('ignore')\n",
    "\n",
    "matrix_type = 'coo'\n",
    "\n",
    "def I_n(n):\n",
    "    return sparse.identity(n, dtype=float, format='coo')\n",
    "\n",
    "def omega_n(n):\n",
    "    return np.exp(((-(complex(0, 2))*np.pi)/(n)))\n",
    "\n",
    "def omega_n1(n):\n",
    "    return np.exp((((complex(0, 2))*np.pi)/(n)))\n",
    "\n",
    "def Omega_n(n):\n",
    "    o = omega_n(2*n)\n",
    "    a = [o**i for i in range(n)]\n",
    "    return sparse.diags(a)\n",
    "\n",
    "def B_n(n):\n",
    "    m = int(n/2)\n",
    "    I = I_n(m)\n",
    "    O = Omega_n(m)\n",
    "    return sparse.bmat([[I, O], [I, -O]]).toarray()\n",
    "\n",
    "def reverse_bit(num, osn):\n",
    "    result = 0;\n",
    "    while osn:\n",
    "        osn-=1\n",
    "        result += result + (num % 2)\n",
    "        num >>= 1\n",
    "    return result\n",
    "\n",
    "def swapRow(A, n):\n",
    "    a = np.zeros(shape=(2**n), dtype=complex)\n",
    "    for i in range(2**n):\n",
    "        a[i] = (A[reverse_bit(i,n)])\n",
    "    return a\n",
    "\n",
    "def myfft(N,x):\n",
    "    x = ((swapRow(x,N))).transpose()\n",
    "    for i in range(1, N+1):\n",
    "        s = 2**i\n",
    "        ss = int(s/2)\n",
    "        o = omega_n(s)\n",
    "        a = [omega_n(s)**i for i in range(ss)]\n",
    "        for j in range(2**(N-i)):\n",
    "            cur = x[s*j:s*(j + 1)].copy()\n",
    "            for k in range(ss):\n",
    "                x[s*j + k] = cur[k] + cur[k + ss] * a[k]\n",
    "            for k in range(ss):\n",
    "                x[s*j + k + ss] = cur[k] - cur[k + ss] * a[k]\n",
    "    return x\n",
    "\n",
    "def Difft(x, N):\n",
    "    x = ((swapRow(x,N))).transpose()\n",
    "    for i in range(1, N+1):\n",
    "        s = 2**i\n",
    "        ss = int(s/2)\n",
    "        a = [omega_n1(s)**i for i in range(ss)]\n",
    "        for j in range(2**(N-i)):\n",
    "            cur = x[s*j:s*(j + 1)].copy()\n",
    "            for k in range(ss):\n",
    "                x[s*j + k] = cur[k] + cur[k + ss] * a[k]\n",
    "            for k in range(ss):\n",
    "                x[s*j + k + ss] = cur[k] - cur[k + ss] * a[k]\n",
    "    return x/2**N"
   ]
  },
  {
   "cell_type": "code",
   "execution_count": 2,
   "metadata": {
    "scrolled": true
   },
   "outputs": [
    {
     "name": "stdout",
     "output_type": "stream",
     "text": [
      "x [7, 3, 7, 6, 6, 9, 7, 6]\n",
      "after Myfft [51.        +0.j         -3.24264069+4.24264069j -1.        +0.j\n",
      "  5.24264069+4.24264069j  3.        +0.j          5.24264069-4.24264069j\n",
      " -1.        +0.j         -3.24264069-4.24264069j]\n",
      "fft [51.        +0.j         -3.24264069+4.24264069j -1.        -0.j\n",
      "  5.24264069+4.24264069j  3.        +0.j          5.24264069-4.24264069j\n",
      " -1.        +0.j         -3.24264069-4.24264069j]\n",
      "after MyIfft [7.+0.j 3.+0.j 7.+0.j 6.+0.j 6.+0.j 9.+0.j 7.+0.j 6.+0.j]\n",
      "Myfft - fft 1.7763568394002505e-15\n",
      "Myfft - Myifft 4.440892098500626e-16\n"
     ]
    }
   ],
   "source": [
    "from scipy.fftpack import fft, ifft \n",
    "n = 3\n",
    "x =[] \n",
    "for i in range(2**n): \n",
    "    x.append(math.ceil(random.random()*10)) \n",
    "print(\"x\",x) \n",
    "\n",
    "Myfft = myfft(n,x)\n",
    "\n",
    "print(\"after Myfft\",Myfft)\n",
    "\n",
    "Myifft1 = Difft(Myfft,n)\n",
    "\n",
    "_fft = fft(x) \n",
    "\n",
    "print(\"fft\",_fft)\n",
    "\n",
    "print(\"after MyIfft\",Myifft1)\n",
    "\n",
    "print(\"Myfft - fft\",np.linalg.norm(Myfft - _fft)) \n",
    "print(\"Myfft - Myifft\",np.linalg.norm(x - Myifft1)) \n",
    "#\n",
    "#print(np.linalg.norm(x - myifft(n, Myfft)))"
   ]
  },
  {
   "cell_type": "code",
   "execution_count": 12,
   "metadata": {
    "scrolled": true
   },
   "outputs": [
    {
     "name": "stdout",
     "output_type": "stream",
     "text": [
      "fft norm [0.0, 0.0, 0.0, 3.2177320244274195e-15, 1.0695084443661336e-14, 2.9397229829860133e-14, 1.4166445794216997e-13, 4.601996975134326e-13, 1.6072569544780931e-12, 5.631947413288312e-12, 2.4455097261373088e-11, 5.2957181767564735e-11, 3.158692256093109e-10, 5.802449842411092e-10, 6.315558458031707e-09, 3.2877149819866425e-08]\n",
      "ifftnorm [0.0, 0.0, 1.2989340843532398e-16, 1.912709747813338e-15, 3.9697916967842604e-15, 4.192594641529138e-15, 2.7716810459383774e-14, 6.9358677023567e-14, 1.7170382608990255e-13, 3.7174874543354336e-13, 1.2919615526319606e-12, 1.6947550616962247e-12, 8.143021555193747e-12, 9.642800028968861e-12, 7.975121518542176e-11, 3.1168120543225113e-10]\n",
      "My fft time [2.5658999220468104e-05, 4.5863998821005225e-05, 0.00023028200666885823, 0.00011225500202272087, 0.00021873599325772375, 0.0004220770060783252, 0.0008970739872893319, 0.0018945360061479732, 0.003497532001347281, 0.008269955011201091, 0.015113956003915519, 0.032731188999605365, 0.06847657400066964, 0.14536935499927495, 0.33427231600217056, 0.6702980480040424]\n",
      "fft time [5.259898898657411e-05, 2.2451000404544175e-05, 3.7524994695559144e-05, 2.14890023926273e-05, 2.341299841646105e-05, 2.6298992452211678e-05, 4.3938998715020716e-05, 5.7088996982201934e-05, 8.4351995610632e-05, 0.00011866899149026722, 0.00018409700714983046, 0.00033163199259433895, 0.0005971940117888153, 0.0012068970099790022, 0.0024170010001398623, 0.005156012994120829]\n"
     ]
    },
    {
     "data": {
      "text/plain": [
       "[<matplotlib.lines.Line2D at 0x5f4bf34b38>]"
      ]
     },
     "execution_count": 12,
     "metadata": {},
     "output_type": "execute_result"
    },
    {
     "data": {
      "image/png": "[encoded data removed]",
      "text/plain": [
       "<Figure size 432x288 with 1 Axes>"
      ]
     },
     "metadata": {
      "needs_background": "light"
     },
     "output_type": "display_data"
    }
   ],
   "source": [
    "import matplotlib.pyplot as plt\n",
    "from scipy.fftpack import fft, ifft \n",
    "n = 16\n",
    "mytime=[]\n",
    "myiffttime=[]\n",
    "ffttime=[]\n",
    "fftnorm=[]\n",
    "ifftnorm=[]\n",
    "for i in range(n):\n",
    "    x =[]\n",
    "\n",
    "    for j in range(2**i): \n",
    "        x.append(math.ceil(random.random()*10)) \n",
    "    start_time = time.clock() \n",
    "    Myfft = myfft(i,x) \n",
    "    mytime.append(time.clock()-start_time)\n",
    "\n",
    "    start_time = time.clock() \n",
    "    _fft = fft(x) \n",
    "    ffttime.append(time.clock()-start_time)\n",
    "\n",
    "    fftnorm.append(np.linalg.norm(Myfft - _fft)) \n",
    "    \n",
    "    ifftnorm.append(np.linalg.norm(x - Difft(Myfft,i)))\n",
    "\n",
    "    \n",
    "    \n",
    "print(\"fft norm\",fftnorm)\n",
    "print(\"ifftnorm\",ifftnorm)\n",
    "\n",
    "print(\"My fft time\",mytime)\n",
    "print(\"fft time\",ffttime)\n",
    "xx = np.arange(n)\n",
    "xxx = 2**xx\n",
    "fig = plt.figure()\n",
    "plt.plot(xxx, mytime)\n",
    "\n",
    "plt.plot(xxx, ffttime)\n"
   ]
  },
  {
   "cell_type": "code",
   "execution_count": 54,
   "metadata": {
    "scrolled": false
   },
   "outputs": [
    {
     "data": {
      "text/plain": [
       "array([[ 1.000000e+00+0.j,  0.000000e+00+0.j,  1.000000e+00+0.j,\n",
       "         0.000000e+00+0.j],\n",
       "       [ 0.000000e+00+0.j,  1.000000e+00+0.j,  0.000000e+00+0.j,\n",
       "         6.123234e-17-1.j],\n",
       "       [ 1.000000e+00+0.j,  0.000000e+00+0.j, -1.000000e+00+0.j,\n",
       "         0.000000e+00+0.j],\n",
       "       [ 0.000000e+00+0.j,  1.000000e+00+0.j,  0.000000e+00+0.j,\n",
       "        -6.123234e-17+1.j]])"
      ]
     },
     "execution_count": 54,
     "metadata": {},
     "output_type": "execute_result"
    }
   ],
   "source": [
    "B_n(2**2)"
   ]
  },
  {
   "cell_type": "code",
   "execution_count": 62,
   "metadata": {},
   "outputs": [
    {
     "data": {
      "text/plain": [
       "4"
      ]
     },
     "execution_count": 62,
     "metadata": {},
     "output_type": "execute_result"
    }
   ],
   "source": [
    "16//4"
   ]
  },
  {
   "cell_type": "code",
   "execution_count": 6,
   "metadata": {},
   "outputs": [
    {
     "name": "stdout",
     "output_type": "stream",
     "text": [
      "[[ 1.000000e+00+0.j  0.000000e+00+0.j  1.000000e+00+0.j  0.000000e+00+0.j\n",
      "   0.000000e+00+0.j  0.000000e+00+0.j  0.000000e+00+0.j  0.000000e+00+0.j]\n",
      " [ 0.000000e+00+0.j  1.000000e+00+0.j  0.000000e+00+0.j  6.123234e-17-1.j\n",
      "   0.000000e+00+0.j  0.000000e+00+0.j  0.000000e+00+0.j  0.000000e+00+0.j]\n",
      " [ 1.000000e+00+0.j  0.000000e+00+0.j -1.000000e+00+0.j  0.000000e+00+0.j\n",
      "   0.000000e+00+0.j  0.000000e+00+0.j  0.000000e+00+0.j  0.000000e+00+0.j]\n",
      " [ 0.000000e+00+0.j  1.000000e+00+0.j  0.000000e+00+0.j -6.123234e-17+1.j\n",
      "   0.000000e+00+0.j  0.000000e+00+0.j  0.000000e+00+0.j  0.000000e+00+0.j]\n",
      " [ 0.000000e+00+0.j  0.000000e+00+0.j  0.000000e+00+0.j  0.000000e+00+0.j\n",
      "   1.000000e+00+0.j  0.000000e+00+0.j  1.000000e+00+0.j  0.000000e+00+0.j]\n",
      " [ 0.000000e+00+0.j  0.000000e+00+0.j  0.000000e+00+0.j  0.000000e+00+0.j\n",
      "   0.000000e+00+0.j  1.000000e+00+0.j  0.000000e+00+0.j  6.123234e-17-1.j]\n",
      " [ 0.000000e+00+0.j  0.000000e+00+0.j  0.000000e+00+0.j  0.000000e+00+0.j\n",
      "   1.000000e+00+0.j  0.000000e+00+0.j -1.000000e+00+0.j  0.000000e+00+0.j]\n",
      " [ 0.000000e+00+0.j  0.000000e+00+0.j  0.000000e+00+0.j  0.000000e+00+0.j\n",
      "   0.000000e+00+0.j  1.000000e+00+0.j  0.000000e+00+0.j -6.123234e-17+1.j]]\n"
     ]
    }
   ],
   "source": [
    "import numpy as np\n",
    "n = 2**2\n",
    "b = B_n(n)\n",
    "m = len(b)\n",
    "z = np.zeros(shape = (m,m), dtype = complex)\n",
    "t = np.bmat([[b,z],[z,b]])\n",
    "print(t)"
   ]
  },
  {
   "cell_type": "code",
   "execution_count": null,
   "metadata": {},
   "outputs": [],
   "source": []
  },
  {
   "cell_type": "code",
   "execution_count": null,
   "metadata": {},
   "outputs": [],
   "source": []
  },
  {
   "cell_type": "code",
   "execution_count": null,
   "metadata": {},
   "outputs": [],
   "source": []
  },
  {
   "cell_type": "code",
   "execution_count": null,
   "metadata": {},
   "outputs": [],
   "source": []
  }
 ],
 "metadata": {
  "kernelspec": {
   "display_name": "Python 3",
   "language": "python",
   "name": "python3"
  },
  "language_info": {
   "codemirror_mode": {
    "name": "ipython",
    "version": 3
   },
   "file_extension": ".py",
   "mimetype": "text/x-python",
   "name": "python",
   "nbconvert_exporter": "python",
   "pygments_lexer": "ipython3",
   "version": "3.7.1"
  }
 },
 "nbformat": 4,
 "nbformat_minor": 2
}
