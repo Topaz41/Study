{
 "cells": [
  {
   "cell_type": "code",
   "execution_count": 100,
   "metadata": {},
   "outputs": [
    {
     "name": "stdout",
     "output_type": "stream",
     "text": [
      "0.0 -0.4128430243575614\n",
      "0.1 -0.3798155824089564\n",
      "0.2 -0.35367275748862387\n",
      "0.3 -0.32851884181645535\n",
      "0.4 -0.29966277638319055\n",
      "0.5 -0.26350497099017856\n",
      "0.6 -0.21742205495227468\n",
      "0.7 -0.15965247535852076\n",
      "0.8 -0.08918546951309164\n",
      "0.9 -0.005655493723421598\n",
      "1.0 0.09075627853732197\n"
     ]
    }
   ],
   "source": [
    "import numpy as np\n",
    "import matplotlib.pyplot as plt\n",
    "\n",
    "def f(x):\n",
    "    return 3*x*(2-x)\n",
    "def p(x):\n",
    "    return x+1\n",
    "\n",
    "def q(x):\n",
    "    return -3\n",
    "\n",
    "sigma1 = -1\n",
    "mu1 = 0\n",
    "\n",
    "sigma2 = 3\n",
    "mu2 = -1\n",
    "\n",
    "def _sigma1(x):\n",
    "    return (sigma1 - q(x)*h/2 - sigma1*p(x)*h/2)\n",
    "\n",
    "def _mu1(x):\n",
    "    return (mu1 + f(x)*h/2 - mu1*p(x)*h/2)\n",
    "\n",
    "def _sigma2(x):\n",
    "    return (sigma2 + q(x)*h/2 + sigma2*h*p(x)/2)\n",
    "\n",
    "def _mu2(x):\n",
    "    return (mu2 - f(x)*h/2 + mu2*p(x)*h/2)\n",
    "\n",
    "\n",
    "\n",
    "N = 10\n",
    "\n",
    "h = 1/N\n",
    "\n",
    "x = np.array([i*h for i in range (N+1)])\n",
    "\n",
    "A = []\n",
    "B = []\n",
    "C = []\n",
    "F = []\n",
    "\n",
    "C.append(-(1/h + _sigma1(x[0])))\n",
    "B.append(1/h)\n",
    "F.append(_mu1(x[0]))\n",
    "\n",
    "\n",
    "for i in range(1, N):\n",
    "    A.append(1/h**2 - p(x[i-1])/(2*h))\n",
    "    B.append( 1/h**2 + p(x[i])/(2*h))\n",
    "    C.append(-((2/h**2) + 3))\n",
    "    F.append(f(x[i]))\n",
    "\n",
    "C.append(-(1/h + _sigma2(x[N])))\n",
    "A.append(1/h)\n",
    "F.append(_mu2(x[N]))\n",
    "\n",
    "alpha = [0]\n",
    "beta = [0]\n",
    "def TrehDiag(a,b,c,f):\n",
    "\n",
    "    n = len(f)\n",
    "    x = [0]*n\n",
    "    for i in range(n-1):\n",
    "        alpha.append(-b[i]/(a[i-1]*alpha[i] + c[i]))\n",
    "        beta.append((f[i] - a[i-1]*beta[i])/(a[i-1]*alpha[i] + c[i]))\n",
    "    x[n-1] = (f[n-1] - a[n-2]*beta[n-1])/(c[n-1] + a[n-2]*alpha[n-1])\n",
    "    for i in reversed(range(n-1)):\n",
    "        x[i] = alpha[i+1]*x[i+1] + beta[i+1]\n",
    "    return x\n",
    "\n",
    "y = TrehDiag(A,B,C,F)\n",
    "for i in range(N+1):\n",
    "    print(i/10,y[i])\n",
    "#print(y[int(N/2)])\n",
    "#resid = np.zeros((N + 1))"
   ]
  },
  {
   "cell_type": "code",
   "execution_count": 101,
   "metadata": {},
   "outputs": [
    {
     "name": "stdout",
     "output_type": "stream",
     "text": [
      "alpha [0, 1.0869565217391306, 1.0577593722755014, 1.0287093434132444, 1.0018690104472066, 0.9787309191987602, 0.9600097917968285, 0.945716782615235, 0.9353927584061958, 0.9283583114035211, 0.9238994279030797]\n",
      "beta [0, -0.0, -0.005714908456843943, -0.01572235542473859, -0.02829599257356569, -0.04176231391253044, -0.05477766928340673, -0.06643602961965635, -0.07622903302091828, -0.08393514490986276, -0.08950516754266592]\n"
     ]
    }
   ],
   "source": [
    "print(\"alpha\",alpha)\n",
    "print(\"beta\",beta)"
   ]
  },
  {
   "cell_type": "code",
   "execution_count": 81,
   "metadata": {},
   "outputs": [
    {
     "data": {
      "text/plain": [
       "-0.0017598773833429893"
      ]
     },
     "execution_count": 81,
     "metadata": {},
     "output_type": "execute_result"
    }
   ],
   "source": [
    "-0.3202953850573808+0.3185355076740378"
   ]
  },
  {
   "cell_type": "code",
   "execution_count": null,
   "metadata": {},
   "outputs": [],
   "source": []
  }
 ],
 "metadata": {
  "kernelspec": {
   "display_name": "Python 3",
   "language": "python",
   "name": "python3"
  },
  "language_info": {
   "codemirror_mode": {
    "name": "ipython",
    "version": 3
   },
   "file_extension": ".py",
   "mimetype": "text/x-python",
   "name": "python",
   "nbconvert_exporter": "python",
   "pygments_lexer": "ipython3",
   "version": "3.7.1"
  }
 },
 "nbformat": 4,
 "nbformat_minor": 2
}
