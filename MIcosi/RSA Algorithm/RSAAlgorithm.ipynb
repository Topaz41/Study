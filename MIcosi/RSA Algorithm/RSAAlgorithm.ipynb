{
 "cells": [
  {
   "cell_type": "code",
   "execution_count": 2,
   "metadata": {},
   "outputs": [],
   "source": [
    "'''\n",
    "wiki RSA link\n",
    "https://en.wikipedia.org/w/index.php?title=RSA_(cryptosystem)&oldid=891107390\n",
    "Euclidean algorithm\n",
    "https://ru.wikibooks.org/w/index.php?title=%D0%A0%D0%B5%D0%B0%D0%BB%D0%B8%D0%B7%D0%B0%D1%86%D0%B8%D0%B8_%D0%B0%D0%BB%D0%B3%D0%BE%D1%80%D0%B8%D1%82%D0%BC%D0%BE%D0%B2/%D0%A0%D0%B0%D1%81%D1%88%D0%B8%D1%80%D0%B5%D0%BD%D0%BD%D1%8B%D0%B9_%D0%B0%D0%BB%D0%B3%D0%BE%D1%80%D0%B8%D1%82%D0%BC_%D0%95%D0%B2%D0%BA%D0%BB%D0%B8%D0%B4%D0%B0&oldid=145525\n",
    "'''\n",
    "def bezout(a, b):\n",
    "    x, xx, y, yy = 1, 0, 0, 1\n",
    "    while b:\n",
    "        q = a // b\n",
    "        a, b = b, a % b\n",
    "        x, xx = xx, x - xx*q\n",
    "        y, yy = yy, y - yy*q\n",
    "    return (x, y, a)\n",
    "\n",
    "def RSA(mc, key):\n",
    "    return pow(mc, key[0], key[1])"
   ]
  },
  {
   "cell_type": "code",
   "execution_count": 5,
   "metadata": {},
   "outputs": [
    {
     "name": "stdout",
     "output_type": "stream",
     "text": [
      "0\n",
      "434868630782647859129316605925\n"
     ]
    }
   ],
   "source": [
    "p = 882493304303057 \n",
    "q = 565640080106113\n",
    "n = p*q\n",
    "e = 435510454193522616856570224823\n",
    "X_1 = 33938304564942541056706890572\n",
    "Y_2 = 167669363821217143128176537107\n",
    "d = 0\n",
    "openkey =(e,n)\n",
    "fi = (p-1)*(q-1)\n",
    "#print(fi)\n",
    "d =bezout(e,fi)[0]+fi\n",
    "closedkey =(d,n)\n",
    "X_2 = RSA(X_1,openkey)\n",
    "X_3 = RSA(X_2,closedkey)\n",
    "#print(closedkey)\n",
    "print(X_1-X_3)\n",
    "print(RSA(Y_2,closedkey))"
   ]
  },
  {
   "cell_type": "code",
   "execution_count": null,
   "metadata": {},
   "outputs": [],
   "source": []
  },
  {
   "cell_type": "code",
   "execution_count": null,
   "metadata": {},
   "outputs": [],
   "source": []
  },
  {
   "cell_type": "code",
   "execution_count": null,
   "metadata": {},
   "outputs": [],
   "source": []
  }
 ],
 "metadata": {
  "kernelspec": {
   "display_name": "Python 3",
   "language": "python",
   "name": "python3"
  },
  "language_info": {
   "codemirror_mode": {
    "name": "ipython",
    "version": 3
   },
   "file_extension": ".py",
   "mimetype": "text/x-python",
   "name": "python",
   "nbconvert_exporter": "python",
   "pygments_lexer": "ipython3",
   "version": "3.7.1"
  }
 },
 "nbformat": 4,
 "nbformat_minor": 2
}
