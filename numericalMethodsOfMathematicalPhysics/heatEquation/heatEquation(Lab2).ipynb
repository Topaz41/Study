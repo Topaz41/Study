{
 "cells": [
  {
   "cell_type": "code",
   "execution_count": 198,
   "metadata": {},
   "outputs": [],
   "source": [
    "import numpy as np\n",
    "import random\n",
    "import time\n",
    "from scipy.fftpack import fft, ifft\n",
    "from scipy import linalg\n",
    "import matplotlib.pyplot as plt\n",
    "import math\n",
    "import warnings\n",
    "warnings.filterwarnings('ignore')\n",
    "#import pylab\n",
    "import matplotlib.patches\n",
    "import matplotlib.lines\n",
    "import matplotlib.path\n",
    "from sympy import diff, symbols, cos, sin\n",
    "\n",
    "a=1\n",
    "#du_dt1 = -a*sin(a*t - 2*pi*x)\n",
    "#u_dx1 = 2*pi*sin(a*t - 2*pi*x)\n",
    "#du_dxLdu_dx1 = -4*pi**2*(-x + 1.01)*cos(a*t - 2*pi*x) - 2*pi*sin(a*t - 2*pi*x)\n",
    "#ff1 = du_dt1 - du_dxLdu_dx1\n",
    "l = 1\n",
    "T=1\n",
    "\n",
    "tau = 0.0025\n",
    "h=1/10\n",
    "sigma = 1\n",
    "w,q = int(l/h), int(T/tau);\n",
    "\n",
    "Matrix = [[0 for x in range(q+1)] for y in range(w+1)] \n",
    "\n",
    "for i in range(w):\n",
    "    Matrix[i][0] = math.sin(i*h)\n",
    "for j in range(q+1):\n",
    "    #Matrix[0][j] =0\n",
    "    Matrix[w][j] = math.sin((j*tau+1))\n",
    "\n",
    "#print(Matrix)\n",
    "#lam = 1"
   ]
  },
  {
   "cell_type": "code",
   "execution_count": 199,
   "metadata": {},
   "outputs": [],
   "source": [
    "a=1\n",
    "def Lamb(x):\n",
    "    return 1;\n",
    "def ff(x, t):\n",
    "    return math.pow(2,1/2)*math.sin(math.pi/4+x+t)\n",
    "def TrehDiag(a,b,c,f):\n",
    "    alpha = [0]\n",
    "    beta = [0]\n",
    "    n = len(f)\n",
    "    x = [0]*n\n",
    "    for i in range(n-1):\n",
    "        alpha.append(-b[i]/(a[i-1]*alpha[i] + c[i]))\n",
    "        beta.append((f[i] - a[i-1]*beta[i])/(a[i-1]*alpha[i] + c[i]))\n",
    "    x[n-1] = (f[n-1] - a[n-2]*beta[n-1])/(c[n-1] + a[n-2]*alpha[n-1])\n",
    "    for i in reversed(range(n-1)):\n",
    "        x[i] = alpha[i+1]*x[i+1] + beta[i+1]\n",
    "    return x"
   ]
  },
  {
   "cell_type": "code",
   "execution_count": 200,
   "metadata": {},
   "outputs": [],
   "source": [
    "a=1\n",
    "for j in range (q):\n",
    "    aa=[]\n",
    "    b=[]\n",
    "    b.append(sigma/h)\n",
    "    c=[]\n",
    "    c.append(-sigma/h-2*sigma-h/(2*tau))\n",
    "    f=[]\n",
    "    f.append(-(math.cos(tau*j)-2*math.sin(tau*j)+h/2*pow(2,1/2)*math.sin(math.pi/4+tau*j))-Matrix[1][j]*((1-sigma)/h)-Matrix[0][j]*(-(1-sigma)/h-2*(1-sigma)+h/(2*tau)))\n",
    "    #print(j,\"j\")\n",
    "    for i in range (1,w):\n",
    "        #print(ff(i*h,j*h))\n",
    "        #print(i,\"i\")\n",
    "        #f.append(-(1/tau*Matrix[i][j]+(((1-sigma)/h**2)*(lamb(i*h) - lamb((i+1)*h))*((Matrix[i][j])-(Matrix[i-1][j])) + lamb((i+1)*h)*((Matrix[i+1][j])-2*Matrix[i][j]+Matrix[i-1][j]))+sigma*ff(i*h,(j+1)*h)+(1-sigma)*ff(i*h,j*h)))\n",
    "        #b.append(-sigma*(lamb((i+1)*h))/h**2)\n",
    "        #c.append((1/tau-(sigma/h**2)*(lamb((i+1)*h)-lamb(i*h))-2*sigma*lamb((i+1)*h)/h**2))\n",
    "        #aa.append(-(sigma/h**2)*(lamb((i+1)*h)-lamb(i*h)) - (sigma/h**2)*(lamb((i+1)*h)))  \n",
    "        f.append(-((1-sigma)*Lamb((i-1/2)*h)/h**2*Matrix[i-1][j]+((1-sigma)*(Lamb((i+1/2)*h)+Lamb((i-1/2)*h))/(-h**2)+1/tau)*Matrix[i][j]+(1-sigma)*Lamb((i+1/2)*h)/h**2*Matrix[i+1][j]+sigma*ff(i*h,(j+1)*tau)+(1-sigma)*ff(i*h,j*tau)))\n",
    "        aa.append(sigma*Lamb((i-1/2)*h)/h**2)\n",
    "        c.append(-(sigma*(Lamb((i+1/2)*h)+Lamb((i-1/2)*h))/h**2+1/tau))\n",
    "        b.append(sigma*Lamb((i+1/2)*h)/h**2)\n",
    "    aa.append(0)\n",
    "    c.append(1)\n",
    "    f.append(Matrix[-1][j+1])\n",
    "    #print(f)\n",
    "    #aa = np.array(aa)\n",
    "    #mat = np.diag(aa, -1) + np.diag(c, 0) + np.diag(b, 1)\n",
    "    #print(mat,f)\n",
    "    ga = TrehDiag(aa,b,c,f)#np.linalg.solve(mat, f)\n",
    "    #print(mat,f)\n",
    "    for i in range (w+1):\n",
    "        Matrix[i][j+1] = ga[i]\n",
    "    #print(ga)\n",
    "        "
   ]
  },
  {
   "cell_type": "code",
   "execution_count": 201,
   "metadata": {},
   "outputs": [
    {
     "name": "stdout",
     "output_type": "stream",
     "text": [
      "time 0.0\n",
      "res [0.         0.09983342 0.19866933 0.29552021 0.38941834 0.47942554\n",
      " 0.56464247 0.64421769 0.71735609 0.78332691 0.84147098]\n",
      "time 0.1\n",
      "res [0.47776375 0.49514042 0.51955862 0.5525037  0.59376921 0.64181171\n",
      " 0.69421758 0.74815987 0.80075442 0.84927185 0.89120736]\n",
      "time 0.2\n",
      "res [0.56766905 0.61907723 0.66596537 0.70982969 0.75151006 0.79120916\n",
      " 0.82855137 0.86267158 0.89232342 0.91599697 0.93203909]\n",
      "time 0.30000000000000004\n",
      "res [0.59402038 0.66991786 0.73547739 0.79190139 0.84004579 0.88042099\n",
      " 0.91321274 0.93832189 0.95542048 0.96402139 0.96355819]\n",
      "time 0.4\n",
      "res [0.58507263 0.67967981 0.76021221 0.82769218 0.88296188 0.92668511\n",
      " 0.95936076 0.98134759 0.99289898 0.99420648 0.98544973]\n",
      "time 0.5\n",
      "res [0.55323855 0.66265492 0.75546172 0.83258727 0.89488412 0.94313152\n",
      " 0.97804489 1.00029191 1.01051472 1.00935702 0.99749499]\n",
      "time 0.6000000000000001\n",
      "res [0.50577993 0.62715764 0.73017837 0.81572617 0.88467867 0.93790901\n",
      " 0.9762921  1.0007148  1.01208952 1.01137077 0.9995736 ]\n",
      "time 0.7000000000000001\n",
      "res [0.4472672  0.57835042 0.68988133 0.78272618 0.85779296 0.91603225\n",
      " 0.95844046 0.98606556 1.00001466 1.00146315 0.99166481]\n",
      "time 0.8\n",
      "res [0.38071787 0.51957667 0.63810235 0.73715565 0.8176743  0.8806722\n",
      " 0.92723997 0.95854701 0.97584453 0.98046927 0.97384763]\n",
      "time 0.9\n",
      "res [0.30824323 0.45312143 0.57721914 0.68139548 0.76661358 0.83393778\n",
      " 0.8845317  0.91965714 0.94067336 0.9490367  0.94630009]\n",
      "time 1.0\n",
      "res [0.2314274  0.38065816 0.50894616 0.61714776 0.70624481 0.77733984\n",
      " 0.83165174 0.87051173 0.89535961 0.90773983 0.90929743]\n"
     ]
    }
   ],
   "source": [
    "dfd = np.array(Matrix)\n",
    "k=40\n",
    "for i in range(11):\n",
    "    print(\"time\",0.1*i)\n",
    "    print(\"res\",dfd[:,i*k])"
   ]
  },
  {
   "cell_type": "code",
   "execution_count": 142,
   "metadata": {},
   "outputs": [
    {
     "name": "stdout",
     "output_type": "stream",
     "text": [
      "[0.06831651 0.11361284 0.20305612 0.29823973 0.3917764  0.48162728\n",
      " 0.56670514 0.6461274  0.71909494 0.78487783 0.84281911]\n"
     ]
    }
   ],
   "source": [
    "dfd = np.array(Matrix)\n",
    "print(dfd[:,1])"
   ]
  },
  {
   "cell_type": "code",
   "execution_count": 143,
   "metadata": {},
   "outputs": [
    {
     "data": {
      "image/png": "[encoded data removed]",
      "text/plain": [
       "<Figure size 432x288 with 1 Axes>"
      ]
     },
     "metadata": {
      "needs_background": "light"
     },
     "output_type": "display_data"
    }
   ],
   "source": [
    "dfd = np.array(Matrix)\n",
    "xxx = [i*h for i in range(w+1)]\n",
    "y1 = (dfd[:,0])\n",
    "y2 = (dfd[:,4])\n",
    "y3 = (dfd[:,99])\n",
    "#print(y1,y2,y3)\n",
    "plt.plot(xxx, y1)\n",
    "plt.plot(xxx, y2)\n",
    "plt.plot(xxx, y3)\n",
    "plt.show()"
   ]
  },
  {
   "cell_type": "code",
   "execution_count": null,
   "metadata": {},
   "outputs": [],
   "source": []
  },
  {
   "cell_type": "code",
   "execution_count": null,
   "metadata": {},
   "outputs": [],
   "source": []
  },
  {
   "cell_type": "code",
   "execution_count": null,
   "metadata": {},
   "outputs": [],
   "source": []
  },
  {
   "cell_type": "code",
   "execution_count": null,
   "metadata": {},
   "outputs": [],
   "source": []
  },
  {
   "cell_type": "code",
   "execution_count": null,
   "metadata": {},
   "outputs": [],
   "source": []
  },
  {
   "cell_type": "code",
   "execution_count": null,
   "metadata": {},
   "outputs": [],
   "source": []
  },
  {
   "cell_type": "code",
   "execution_count": null,
   "metadata": {},
   "outputs": [],
   "source": []
  },
  {
   "cell_type": "code",
   "execution_count": null,
   "metadata": {},
   "outputs": [],
   "source": []
  },
  {
   "cell_type": "code",
   "execution_count": null,
   "metadata": {},
   "outputs": [],
   "source": []
  }
 ],
 "metadata": {
  "kernelspec": {
   "display_name": "Python 3",
   "language": "python",
   "name": "python3"
  },
  "language_info": {
   "codemirror_mode": {
    "name": "ipython",
    "version": 3
   },
   "file_extension": ".py",
   "mimetype": "text/x-python",
   "name": "python",
   "nbconvert_exporter": "python",
   "pygments_lexer": "ipython3",
   "version": "3.7.1"
  }
 },
 "nbformat": 4,
 "nbformat_minor": 2
}
