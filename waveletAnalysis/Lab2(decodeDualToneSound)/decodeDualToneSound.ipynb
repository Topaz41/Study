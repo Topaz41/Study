{
 "cells": [
  {
   "cell_type": "code",
   "execution_count": null,
   "metadata": {},
   "outputs": [],
   "source": [
    "import numpy as np\n",
    "import scipy.io.wavfile as wav\n",
    "import matplotlib.pyplot as plt\n",
    "\n",
    "#here we find quantity peaks\n",
    "fs,signal=wav.read(\"e:\\My\\s2.wav \")\n",
    "c = (signal)\n",
    "plt.plot(abs(c[:int(len(c))]),'r') \n",
    "plt.show()\n"
   ]
  },
  {
   "cell_type": "code",
   "execution_count": null,
   "metadata": {},
   "outputs": [],
   "source": [
    "import wave\n",
    "import scipy.io.wavfile as wav\n",
    "import numpy as np\n",
    "import matplotlib.pyplot as plt\n",
    "import matplotlib.ticker as ticker\n",
    "import math\n",
    "import matplotlib.pyplot as plt\n",
    "from scipy.fftpack import fft, ifft\n",
    "\n",
    "n=22 # n = quantity peaks   14,22,21\n",
    "\n",
    "def getPicks(c):\n",
    "    a =[]\n",
    "    for i in range(len(c)):\n",
    "        if c[i]>100:\n",
    "            a.append(i*n/nframes*fs)\n",
    "    return a\n",
    "\n",
    "\n",
    "nframes = wave.open(\"e:\\My\\s2.wav \", mode=\"r\").getnframes()\n",
    "fs,signal=wav.read(\"e:\\My\\s2.wav \")\n",
    "signal1 = signal/32767 #2**15-1\n",
    "t = [i/fs for i in range(len(signal1))]\n",
    "f = [i for i in range(len(signal1))]\n",
    "for i in range(n):\n",
    "    c = fft(signal1[int(len(signal1)/n*(i)):int(len(signal1)/n*(i+1))])\n",
    "    x = [i*n/nframes*fs for i in range(int(len(c)/2))]\n",
    "    plt.plot(x, abs(c[:int(len(c)/2)]),'r') \n",
    "    plt.show()\n",
    "    print(getPicks(abs(c[:int(len(c)/2)])))"
   ]
  },
  {
   "cell_type": "code",
   "execution_count": null,
   "metadata": {},
   "outputs": [],
   "source": [
    "#Res for s1 0123456789ABCD\n",
    "#Res for s2 A1B2C3D4#A5B6C7D8#A9B0\n",
    "#Res for s3 ABBCCCDDDD00000111111\n",
    "\n",
    "\n",
    "\n"
   ]
  }
 ],
 "metadata": {
  "kernelspec": {
   "display_name": "Python 3",
   "language": "python",
   "name": "python3"
  },
  "language_info": {
   "codemirror_mode": {
    "name": "ipython",
    "version": 3
   },
   "file_extension": ".py",
   "mimetype": "text/x-python",
   "name": "python",
   "nbconvert_exporter": "python",
   "pygments_lexer": "ipython3",
   "version": "3.7.1"
  }
 },
 "nbformat": 4,
 "nbformat_minor": 2
}
